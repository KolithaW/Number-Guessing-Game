{
 "cells": [
  {
   "cell_type": "markdown",
   "metadata": {},
   "source": [
    "## Number Guessing Game"
   ]
  },
  {
   "cell_type": "markdown",
   "metadata": {},
   "source": [
    "This code generates a game where you would be given 3 chances to guess a number between 1 and 100."
   ]
  },
  {
   "cell_type": "code",
   "execution_count": 1,
   "metadata": {},
   "outputs": [
    {
     "name": "stdout",
     "output_type": "stream",
     "text": [
      "Hello World!!\n"
     ]
    }
   ],
   "source": [
    "print('Hello World!!')"
   ]
  },
  {
   "cell_type": "code",
   "execution_count": 2,
   "metadata": {},
   "outputs": [
    {
     "name": "stdout",
     "output_type": "stream",
     "text": [
      "Libraries are imported\n"
     ]
    }
   ],
   "source": [
    "# import the libraries\n",
    "import random\n",
    "import numpy as np\n",
    "print('Libraries are imported')"
   ]
  },
  {
   "cell_type": "code",
   "execution_count": 3,
   "metadata": {},
   "outputs": [
    {
     "data": {
      "text/plain": [
       "32"
      ]
     },
     "execution_count": 3,
     "metadata": {},
     "output_type": "execute_result"
    }
   ],
   "source": [
    "# generate a random number between 1 to 100 to guess\n",
    "number = random.randrange(1,100)\n",
    "number"
   ]
  },
  {
   "cell_type": "code",
   "execution_count": 4,
   "metadata": {},
   "outputs": [
    {
     "name": "stdout",
     "output_type": "stream",
     "text": [
      "Guess the number:h\n",
      "Please enter an interger!\n",
      "Guess the number:45\n",
      "Your prediction is too large\n",
      "Try again: 30\n",
      "Your prediction is too small\n",
      "Try again: 35\n",
      "Sorry, you have used all 3 chances. Better luck next time!!!\n"
     ]
    }
   ],
   "source": [
    "# number of attempts\n",
    "guess_count = 0\n",
    "# number of chances\n",
    "guess_limit =3\n",
    "\n",
    "while True:\n",
    "    try:        \n",
    "        # take the player input\n",
    "        guess = int(input('Guess the number:'))\n",
    "    except ValueError:\n",
    "        print(\"Please enter an interger!\")\n",
    "        continue\n",
    "    else:    \n",
    "        # match the guess and the random number\n",
    "        while guess_count<guess_limit:\n",
    "        \n",
    "            guess_count+=1\n",
    "    \n",
    "            if guess==number:\n",
    "                print('Congratulations!!! You are a winner...')\n",
    "                break\n",
    "        \n",
    "            else:\n",
    "                if guess>number:    \n",
    "                    print('Your prediction is too large')\n",
    "                    guess = int(input('Try again: '))\n",
    "                    guess_count+=1\n",
    "        \n",
    "                elif guess<number:\n",
    "                    print('Your prediction is too small')\n",
    "                    guess = int(input('Try again: '))\n",
    "                    guess_count+=1\n",
    "        else:\n",
    "            print('Sorry, you have used all 3 chances. Better luck next time!!!')\n",
    "            break\n",
    "            \n",
    "        break"
   ]
  },
  {
   "cell_type": "code",
   "execution_count": 6,
   "metadata": {},
   "outputs": [
    {
     "name": "stdout",
     "output_type": "stream",
     "text": [
      "Guess the number:g\n",
      "Please enter an interger!\n",
      "Guess the number:45\n",
      "Your prediction is too large\n",
      "Try again: 32\n",
      "Congratulations!!! You are a winner...\n"
     ]
    }
   ],
   "source": []
  },
  {
   "cell_type": "markdown",
   "metadata": {},
   "source": [
    "### Thank you"
   ]
  }
 ],
 "metadata": {
  "kernelspec": {
   "display_name": "Python 3",
   "language": "python",
   "name": "python3"
  },
  "language_info": {
   "codemirror_mode": {
    "name": "ipython",
    "version": 3
   },
   "file_extension": ".py",
   "mimetype": "text/x-python",
   "name": "python",
   "nbconvert_exporter": "python",
   "pygments_lexer": "ipython3",
   "version": "3.8.5"
  }
 },
 "nbformat": 4,
 "nbformat_minor": 4
}
